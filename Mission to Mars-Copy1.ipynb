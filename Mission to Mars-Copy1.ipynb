{
 "cells": [
  {
   "cell_type": "markdown",
   "metadata": {},
   "source": [
    "# Mission to Mars"
   ]
  },
  {
   "cell_type": "code",
   "execution_count": 8,
   "metadata": {},
   "outputs": [],
   "source": [
    "#import dependencies\n",
    "import bs4\n",
    "from bs4 import BeautifulSoup as bs\n",
    "import splinter\n",
    "from splinter import Browser\n",
    "import os\n",
    "import pandas as pd\n",
    "import time"
   ]
  },
  {
   "cell_type": "code",
   "execution_count": 9,
   "metadata": {},
   "outputs": [],
   "source": [
    "#pointing to the directory where chromedriver exists\n",
    "executable_path = {\"executable_path\":\"/usr/local/bin/chromedriver\"}\n",
    "browser = Browser(\"chrome\", **executable_path, headless = False)"
   ]
  },
  {
   "cell_type": "code",
   "execution_count": 10,
   "metadata": {},
   "outputs": [],
   "source": [
    "#visit the page\n",
    "url = \"https://mars.nasa.gov/news/\"\n",
    "browser.visit(url)"
   ]
  },
  {
   "cell_type": "code",
   "execution_count": 11,
   "metadata": {},
   "outputs": [],
   "source": [
    "#using bs to write it into html\n",
    "html = browser.html\n",
    "soup = bs(html,\"html.parser\")"
   ]
  },
  {
   "cell_type": "code",
   "execution_count": 12,
   "metadata": {},
   "outputs": [
    {
     "name": "stdout",
     "output_type": "stream",
     "text": [
      "Title: InSight Captures Sunrise and Sunset on Mars\n",
      "Para: InSight joins the rest of NASA's Red Planet surface missions, all of which have photographed either the start or end of a Martian day.\n"
     ]
    }
   ],
   "source": [
    "news_title = soup.find(\"div\",class_=\"content_title\").text\n",
    "news_paragraph = soup.find(\"div\", class_=\"article_teaser_body\").text\n",
    "print(f\"Title: {news_title}\")\n",
    "print(f\"Para: {news_paragraph}\")"
   ]
  },
  {
   "cell_type": "markdown",
   "metadata": {},
   "source": [
    "### JPL Mars Space Images - Featured Image"
   ]
  },
  {
   "cell_type": "code",
   "execution_count": 13,
   "metadata": {},
   "outputs": [],
   "source": [
    "url_image = \"https://www.jpl.nasa.gov/spaceimages/?search=&category=featured#submit\"\n",
    "browser.visit(url_image)"
   ]
  },
  {
   "cell_type": "code",
   "execution_count": 14,
   "metadata": {},
   "outputs": [
    {
     "name": "stdout",
     "output_type": "stream",
     "text": [
      "https://www.jpl.nasa.gov/\n"
     ]
    }
   ],
   "source": [
    "#Get the base url\n",
    "from urllib.parse import urlsplit\n",
    "base_url = \"{0.scheme}://{0.netloc}/\".format(urlsplit(url_image))\n",
    "print(base_url)"
   ]
  },
  {
   "cell_type": "code",
   "execution_count": 15,
   "metadata": {},
   "outputs": [],
   "source": [
    "#Design an xpath selector to grab the image\n",
    "xpath = \"//*[@id=\\\"page\\\"]/section[3]/div/ul/li[1]/a/div/div[2]/img\""
   ]
  },
  {
   "cell_type": "code",
   "execution_count": 16,
   "metadata": {},
   "outputs": [],
   "source": [
    "#Use splinter to click on the mars featured image\n",
    "#to bring the full resolution image\n",
    "results = browser.find_by_xpath(xpath)\n",
    "img = results[0]\n",
    "img.click()"
   ]
  },
  {
   "cell_type": "code",
   "execution_count": 17,
   "metadata": {},
   "outputs": [
    {
     "name": "stdout",
     "output_type": "stream",
     "text": [
      "https://www.jpl.nasa.gov//spaceimages/images/largesize/PIA22911_hires.jpg\n"
     ]
    }
   ],
   "source": [
    "#get image url using BeautifulSoup\n",
    "html_image = browser.html\n",
    "soup = bs(html_image, \"html.parser\")\n",
    "img_url = soup.find(\"img\", class_=\"fancybox-image\")[\"src\"]\n",
    "full_img_url = base_url + img_url\n",
    "print(full_img_url)"
   ]
  },
  {
   "cell_type": "code",
   "execution_count": 18,
   "metadata": {},
   "outputs": [],
   "source": [
    "#get mars weather's latest tweet from the website\n",
    "url_weather = \"https://twitter.com/marswxreport?lang=en\"\n",
    "browser.visit(url_weather)"
   ]
  },
  {
   "cell_type": "code",
   "execution_count": 19,
   "metadata": {},
   "outputs": [
    {
     "name": "stdout",
     "output_type": "stream",
     "text": [
      "InSight sol 152 (2019-05-01) low -98.1ºC (-144.5ºF) high -17.2ºC (1.0ºF)\n",
      "winds from the SW at 4.8 m/s (10.7 mph) gusting to 13.2 m/s (29.5 mph)\n",
      "pressure at 7.40 hPapic.twitter.com/zJGo11uNF1\n"
     ]
    }
   ],
   "source": [
    "html_weather = browser.html\n",
    "soup = bs(html_weather, \"html.parser\")\n",
    "#temp = soup.find('div', attrs={\"class\": \"tweet\", \"data-name\": \"Mars Weather\"})\n",
    "mars_weather = soup.find(\"p\", class_=\"TweetTextSize TweetTextSize--normal js-tweet-text tweet-text\").text\n",
    "print(mars_weather)\n",
    "#temp"
   ]
  },
  {
   "cell_type": "code",
   "execution_count": 20,
   "metadata": {},
   "outputs": [],
   "source": [
    "url_facts = \"https://space-facts.com/mars/\""
   ]
  },
  {
   "cell_type": "code",
   "execution_count": 21,
   "metadata": {},
   "outputs": [
    {
     "data": {
      "text/html": [
       "<div>\n",
       "<style scoped>\n",
       "    .dataframe tbody tr th:only-of-type {\n",
       "        vertical-align: middle;\n",
       "    }\n",
       "\n",
       "    .dataframe tbody tr th {\n",
       "        vertical-align: top;\n",
       "    }\n",
       "\n",
       "    .dataframe thead th {\n",
       "        text-align: right;\n",
       "    }\n",
       "</style>\n",
       "<table border=\"1\" class=\"dataframe\">\n",
       "  <thead>\n",
       "    <tr style=\"text-align: right;\">\n",
       "      <th></th>\n",
       "      <th>0</th>\n",
       "      <th>1</th>\n",
       "    </tr>\n",
       "  </thead>\n",
       "  <tbody>\n",
       "    <tr>\n",
       "      <th>0</th>\n",
       "      <td>Equatorial Diameter:</td>\n",
       "      <td>6,792 km</td>\n",
       "    </tr>\n",
       "    <tr>\n",
       "      <th>1</th>\n",
       "      <td>Polar Diameter:</td>\n",
       "      <td>6,752 km</td>\n",
       "    </tr>\n",
       "    <tr>\n",
       "      <th>2</th>\n",
       "      <td>Mass:</td>\n",
       "      <td>6.42 x 10^23 kg (10.7% Earth)</td>\n",
       "    </tr>\n",
       "    <tr>\n",
       "      <th>3</th>\n",
       "      <td>Moons:</td>\n",
       "      <td>2 (Phobos &amp; Deimos)</td>\n",
       "    </tr>\n",
       "    <tr>\n",
       "      <th>4</th>\n",
       "      <td>Orbit Distance:</td>\n",
       "      <td>227,943,824 km (1.52 AU)</td>\n",
       "    </tr>\n",
       "    <tr>\n",
       "      <th>5</th>\n",
       "      <td>Orbit Period:</td>\n",
       "      <td>687 days (1.9 years)</td>\n",
       "    </tr>\n",
       "    <tr>\n",
       "      <th>6</th>\n",
       "      <td>Surface Temperature:</td>\n",
       "      <td>-153 to 20 °C</td>\n",
       "    </tr>\n",
       "    <tr>\n",
       "      <th>7</th>\n",
       "      <td>First Record:</td>\n",
       "      <td>2nd millennium BC</td>\n",
       "    </tr>\n",
       "    <tr>\n",
       "      <th>8</th>\n",
       "      <td>Recorded By:</td>\n",
       "      <td>Egyptian astronomers</td>\n",
       "    </tr>\n",
       "  </tbody>\n",
       "</table>\n",
       "</div>"
      ],
      "text/plain": [
       "                      0                              1\n",
       "0  Equatorial Diameter:                       6,792 km\n",
       "1       Polar Diameter:                       6,752 km\n",
       "2                 Mass:  6.42 x 10^23 kg (10.7% Earth)\n",
       "3                Moons:            2 (Phobos & Deimos)\n",
       "4       Orbit Distance:       227,943,824 km (1.52 AU)\n",
       "5         Orbit Period:           687 days (1.9 years)\n",
       "6  Surface Temperature:                  -153 to 20 °C\n",
       "7         First Record:              2nd millennium BC\n",
       "8          Recorded By:           Egyptian astronomers"
      ]
     },
     "execution_count": 21,
     "metadata": {},
     "output_type": "execute_result"
    }
   ],
   "source": [
    "table = pd.read_html(url_facts)\n",
    "table[0]"
   ]
  },
  {
   "cell_type": "code",
   "execution_count": 22,
   "metadata": {},
   "outputs": [
    {
     "data": {
      "text/html": [
       "<div>\n",
       "<style scoped>\n",
       "    .dataframe tbody tr th:only-of-type {\n",
       "        vertical-align: middle;\n",
       "    }\n",
       "\n",
       "    .dataframe tbody tr th {\n",
       "        vertical-align: top;\n",
       "    }\n",
       "\n",
       "    .dataframe thead th {\n",
       "        text-align: right;\n",
       "    }\n",
       "</style>\n",
       "<table border=\"1\" class=\"dataframe\">\n",
       "  <thead>\n",
       "    <tr style=\"text-align: right;\">\n",
       "      <th></th>\n",
       "      <th>Values</th>\n",
       "    </tr>\n",
       "    <tr>\n",
       "      <th>Parameter</th>\n",
       "      <th></th>\n",
       "    </tr>\n",
       "  </thead>\n",
       "  <tbody>\n",
       "    <tr>\n",
       "      <th>Equatorial Diameter:</th>\n",
       "      <td>6,792 km</td>\n",
       "    </tr>\n",
       "    <tr>\n",
       "      <th>Polar Diameter:</th>\n",
       "      <td>6,752 km</td>\n",
       "    </tr>\n",
       "    <tr>\n",
       "      <th>Mass:</th>\n",
       "      <td>6.42 x 10^23 kg (10.7% Earth)</td>\n",
       "    </tr>\n",
       "    <tr>\n",
       "      <th>Moons:</th>\n",
       "      <td>2 (Phobos &amp; Deimos)</td>\n",
       "    </tr>\n",
       "    <tr>\n",
       "      <th>Orbit Distance:</th>\n",
       "      <td>227,943,824 km (1.52 AU)</td>\n",
       "    </tr>\n",
       "    <tr>\n",
       "      <th>Orbit Period:</th>\n",
       "      <td>687 days (1.9 years)</td>\n",
       "    </tr>\n",
       "    <tr>\n",
       "      <th>Surface Temperature:</th>\n",
       "      <td>-153 to 20 °C</td>\n",
       "    </tr>\n",
       "    <tr>\n",
       "      <th>First Record:</th>\n",
       "      <td>2nd millennium BC</td>\n",
       "    </tr>\n",
       "    <tr>\n",
       "      <th>Recorded By:</th>\n",
       "      <td>Egyptian astronomers</td>\n",
       "    </tr>\n",
       "  </tbody>\n",
       "</table>\n",
       "</div>"
      ],
      "text/plain": [
       "                                             Values\n",
       "Parameter                                          \n",
       "Equatorial Diameter:                       6,792 km\n",
       "Polar Diameter:                            6,752 km\n",
       "Mass:                 6.42 x 10^23 kg (10.7% Earth)\n",
       "Moons:                          2 (Phobos & Deimos)\n",
       "Orbit Distance:            227,943,824 km (1.52 AU)\n",
       "Orbit Period:                  687 days (1.9 years)\n",
       "Surface Temperature:                  -153 to 20 °C\n",
       "First Record:                     2nd millennium BC\n",
       "Recorded By:                   Egyptian astronomers"
      ]
     },
     "execution_count": 22,
     "metadata": {},
     "output_type": "execute_result"
    }
   ],
   "source": [
    "df_mars_facts = table[0]\n",
    "df_mars_facts.columns = [\"Parameter\",\"Values\"]\n",
    "df_mars_facts.set_index([\"Parameter\"])"
   ]
  },
  {
   "cell_type": "code",
   "execution_count": 23,
   "metadata": {},
   "outputs": [
    {
     "data": {
      "text/plain": [
       "'<table border=\"1\" class=\"dataframe\">  <thead>    <tr style=\"text-align: right;\">      <th></th>      <th>Parameter</th>      <th>Values</th>    </tr>  </thead>  <tbody>    <tr>      <th>0</th>      <td>Equatorial Diameter:</td>      <td>6,792 km</td>    </tr>    <tr>      <th>1</th>      <td>Polar Diameter:</td>      <td>6,752 km</td>    </tr>    <tr>      <th>2</th>      <td>Mass:</td>      <td>6.42 x 10^23 kg (10.7% Earth)</td>    </tr>    <tr>      <th>3</th>      <td>Moons:</td>      <td>2 (Phobos &amp; Deimos)</td>    </tr>    <tr>      <th>4</th>      <td>Orbit Distance:</td>      <td>227,943,824 km (1.52 AU)</td>    </tr>    <tr>      <th>5</th>      <td>Orbit Period:</td>      <td>687 days (1.9 years)</td>    </tr>    <tr>      <th>6</th>      <td>Surface Temperature:</td>      <td>-153 to 20 °C</td>    </tr>    <tr>      <th>7</th>      <td>First Record:</td>      <td>2nd millennium BC</td>    </tr>    <tr>      <th>8</th>      <td>Recorded By:</td>      <td>Egyptian astronomers</td>    </tr>  </tbody></table>'"
      ]
     },
     "execution_count": 23,
     "metadata": {},
     "output_type": "execute_result"
    }
   ],
   "source": [
    "mars_html_table = df_mars_facts.to_html()\n",
    "mars_html_table = mars_html_table.replace(\"\\n\", \"\")\n",
    "mars_html_table"
   ]
  },
  {
   "cell_type": "code",
   "execution_count": 24,
   "metadata": {},
   "outputs": [],
   "source": [
    "url_hemisphere = \"https://astrogeology.usgs.gov/search/results?q=hemisphere+enhanced&k1=target&v1=Mars\"\n",
    "browser.visit(url_hemisphere)"
   ]
  },
  {
   "cell_type": "code",
   "execution_count": 25,
   "metadata": {},
   "outputs": [
    {
     "name": "stdout",
     "output_type": "stream",
     "text": [
      "https://astrogeology.usgs.gov/\n"
     ]
    }
   ],
   "source": [
    "#Getting the base url\n",
    "hemisphere_base_url = \"{0.scheme}://{0.netloc}/\".format(urlsplit(url_hemisphere))\n",
    "print(hemisphere_base_url)"
   ]
  },
  {
   "cell_type": "code",
   "execution_count": null,
   "metadata": {},
   "outputs": [],
   "source": [
    "# def init_browser():\n",
    "#     \"\"\"Initializes a splinter Browser object\"\"\"\n",
    "    \n",
    "#     executable_path = {\"executable_path\": \"/usr/local/bin/chromedriver\"}\n",
    "#     return Browser(\"chrome\", **executable_path, headless=True)\n",
    "# hemi_url = \"https://astrogeology.usgs.gov/search/map/Mars/Viking/cerberus_enhanced\""
   ]
  },
  {
   "cell_type": "code",
   "execution_count": 26,
   "metadata": {},
   "outputs": [],
   "source": [
    "url = \"https://astrogeology.usgs.gov/search/results?q=hemisphere+enhanced&k1=target&v1=Mars\"\n",
    "browser.visit(url)"
   ]
  },
  {
   "cell_type": "code",
   "execution_count": 28,
   "metadata": {},
   "outputs": [],
   "source": [
    "html = browser.html\n",
    "soup = bs(html, 'html.parser')"
   ]
  },
  {
   "cell_type": "code",
   "execution_count": 30,
   "metadata": {},
   "outputs": [
    {
     "data": {
      "text/plain": [
       "[{'Title': 'Cerberus Hemisphere Enhanced',\n",
       "  'URL': 'https://astrogeology.usgs.gov//cache/images/cfa62af2557222a02478f1fcd781d445_cerberus_enhanced.tif_full.jpg'},\n",
       " {'Title': 'Schiaparelli Hemisphere Enhanced',\n",
       "  'URL': 'https://astrogeology.usgs.gov//cache/images/3cdd1cbf5e0813bba925c9030d13b62e_schiaparelli_enhanced.tif_full.jpg'},\n",
       " {'Title': 'Syrtis Major Hemisphere Enhanced',\n",
       "  'URL': 'https://astrogeology.usgs.gov//cache/images/ae209b4e408bb6c3e67b6af38168cf28_syrtis_major_enhanced.tif_full.jpg'},\n",
       " {'Title': 'Valles Marineris Hemisphere Enhanced',\n",
       "  'URL': 'https://astrogeology.usgs.gov//cache/images/7cf2da4bf549ed01c17f206327be4db7_valles_marineris_enhanced.tif_full.jpg'}]"
      ]
     },
     "execution_count": 30,
     "metadata": {},
     "output_type": "execute_result"
    }
   ],
   "source": [
    "hemisphere_image_urls = []\n",
    "#find all 4 hemisphere information\n",
    "results = soup.find_all('div', class_ = 'item')\n",
    "\n",
    "#base url\n",
    "base_url = 'https://astrogeology.usgs.gov/'\n",
    "\n",
    "#loop through each result to extract the title and url to each image\n",
    "for result in results:\n",
    "    title = result.find('h3').text\n",
    "    \n",
    "    hemisphere_url = result.find('a', class_='itemLink')\n",
    "    \n",
    "    link = hemisphere_url['href']\n",
    "    \n",
    "    image_link = base_url + link\n",
    "    \n",
    "    browser.visit(image_link)\n",
    "    \n",
    "    html = browser.html\n",
    "    \n",
    "    soup = bs(html, 'html.parser')\n",
    "    \n",
    "    image = soup.find('img', class_='wide-image')['src']\n",
    "    \n",
    "    image_url = base_url + image\n",
    "    \n",
    "    hemisphere_image_urls.append({'Title':title, \"URL\" :image_url})\n",
    "\n",
    "hemisphere_image_urls   "
   ]
  },
  {
   "cell_type": "code",
   "execution_count": null,
   "metadata": {},
   "outputs": [],
   "source": [
    "# with init_browser() as browser:\n",
    "            \n",
    "#     browser.visit(hemi_url)\n",
    "\n",
    "\n",
    "#     # Create Beautiful soup object\n",
    "#     soup = bs(browser.html, \"html.parser\")\n",
    "        \n",
    "\n",
    "#     hemi = soup.find_all(\"img\", class_=\"thumb\")[0]\n",
    "    \n",
    "#     # Get name of hemisphere\n",
    "#     hemi_name = soup.find(\"h2\").text\n",
    "\n",
    "#     # Get link to page with full resolution image\n",
    "#     hemi_image = soup.find(\"a\", class_=\"itemLink product-item\")[\"href\"]\n",
    "#     hemi_image_url = f\"https://astrogeology.usgs.gov/search/map/Mars/Viking{hemi_image}\"\n",
    "\n",
    "#     with init_browser() as browser:\n",
    "#         # Open browser to selected hemisphere's page\n",
    "#         browser.visit(hemi_image_url)\n",
    "#         soup = bs(browser.html, \"html.parser\")\n",
    "\n",
    "#         # Get link to full resolution image\n",
    "#         hemi_full = soup.find(\"img\", class_ = \"wide-image\")[\"src\"]\n",
    "#         hemi_full_url = f\"https://astrogeology.usgs.gov/{hemi_full}\"\n",
    "\n",
    "\n",
    "#     hemi_image_dict = {\"title\": hemi_name, \"img_url\": hemi_full_url}      \n",
    "#     #hemisphere_image_urls.append(hemi_image_dict)\n",
    "\n",
    "#     # Create dictionary of results to return\n",
    "#     #hemi_dict = {\"hemisphere_image_urls\": hemisphere_image_urls}\n",
    "#     print(hemi_image_dict)"
   ]
  },
  {
   "cell_type": "code",
   "execution_count": null,
   "metadata": {},
   "outputs": [],
   "source": [
    "# with init_browser() as browser:\n",
    "            \n",
    "#     browser.visit(url)\n",
    "\n",
    "#     # Create Beautiful soup object\n",
    "#     soup = bs(browser.html, \"html.parser\")\n",
    "\n",
    "#     hemi = soup.find_all(\"div\", class_=\"description\")[1]\n",
    "\n",
    "#     # Get name of hemisphere\n",
    "#     hemi_name = hemi.find(\"h3\").text\n",
    "\n",
    "#     # Get link to page with full resolution image\n",
    "#     hemi_image = hemi.find(\"a\")[\"href\"]\n",
    "#     hemi_image_url = f\"https://astrogeology.usgs.gov/{hemi_image}\"\n",
    "\n",
    "#     with init_browser() as browser:\n",
    "#         # Open browser to selected hemisphere's page\n",
    "#         browser.visit(hemi_image_url)\n",
    "#         soup = bs(browser.html, \"html.parser\")\n",
    "\n",
    "#         # Get link to full resolution image\n",
    "#         hemi_full = soup.find(\"img\", class_ = \"wide-image\")[\"src\"]\n",
    "#         hemi_full_url = f\"https://astrogeology.usgs.gov/{hemi_full}\"\n",
    "\n",
    "\n",
    "#     hemi_image_dict = {\"title\": hemi_name, \"img_url\": hemi_full_url}      \n",
    "#     hemisphere_image_urls.append(hemi_image_dict)\n",
    "\n",
    "#     # Create dictionary of results to return\n",
    "#     hemi_dict = {\"hemisphere_image_urls\": hemisphere_image_urls}"
   ]
  },
  {
   "cell_type": "code",
   "execution_count": null,
   "metadata": {},
   "outputs": [],
   "source": [
    "# with init_browser() as browser:\n",
    "            \n",
    "#     browser.visit(url)\n",
    "\n",
    "#     # Create Beautiful soup object\n",
    "#     soup = bs(browser.html, \"html.parser\")\n",
    "\n",
    "#     hemi = soup.find_all(\"div\", class_=\"description\")[2]\n",
    "\n",
    "#     # Get name of hemisphere\n",
    "#     hemi_name = hemi.find(\"h3\").text\n",
    "\n",
    "#     # Get link to page with full resolution image\n",
    "#     hemi_image = hemi.find(\"a\")[\"href\"]\n",
    "#     hemi_image_url = f\"https://astrogeology.usgs.gov/{hemi_image}\"\n",
    "\n",
    "#     with init_browser() as browser:\n",
    "#         # Open browser to selected hemisphere's page\n",
    "#         browser.visit(hemi_image_url)\n",
    "#         soup = bs(browser.html, \"html.parser\")\n",
    "\n",
    "#         # Get link to full resolution image\n",
    "#         hemi_full = soup.find(\"img\", class_ = \"wide-image\")[\"src\"]\n",
    "#         hemi_full_url = f\"https://astrogeology.usgs.gov/{hemi_full}\"\n",
    "\n",
    "\n",
    "#     hemi_image_dict = {\"title\": hemi_name, \"img_url\": hemi_full_url}      \n",
    "#     hemisphere_image_urls.append(hemi_image_dict)\n",
    "\n",
    "#     # Create dictionary of results to return\n",
    "#     hemi_dict = {\"hemisphere_image_urls\": hemisphere_image_urls}"
   ]
  },
  {
   "cell_type": "code",
   "execution_count": null,
   "metadata": {},
   "outputs": [],
   "source": [
    "# with init_browser() as browser:\n",
    "            \n",
    "#     browser.visit(url)\n",
    "\n",
    "#     # Create Beautiful soup object\n",
    "#     soup = bs(browser.html, \"html.parser\")\n",
    "\n",
    "#     hemi = soup.find_all(\"div\", class_=\"description\")[3]\n",
    "\n",
    "#     # Get name of hemisphere\n",
    "#     hemi_name = hemi.find(\"h3\").text\n",
    "\n",
    "#     # Get link to page with full resolution image\n",
    "#     hemi_image = hemi.find(\"a\")[\"href\"]\n",
    "#     hemi_image_url = f\"https://astrogeology.usgs.gov/{hemi_image}\"\n",
    "\n",
    "#     with init_browser() as browser:\n",
    "#         # Open browser to selected hemisphere's page\n",
    "#         browser.visit(hemi_image_url)\n",
    "#         soup = bs(browser.html, \"html.parser\")\n",
    "\n",
    "#         # Get link to full resolution image\n",
    "#         hemi_full = soup.find(\"img\", class_ = \"wide-image\")[\"src\"]\n",
    "#         hemi_full_url = f\"https://astrogeology.usgs.gov/{hemi_full}\"\n",
    "\n",
    "\n",
    "#     hemi_image_dict = {\"title\": hemi_name, \"img_url\": hemi_full_url}      \n",
    "#     hemisphere_image_urls.append(hemi_image_dict)\n",
    "\n",
    "#     # Create dictionary of results to return\n",
    "#     hemi_dict = {\"hemisphere_image_urls\": hemisphere_image_urls}"
   ]
  },
  {
   "cell_type": "code",
   "execution_count": null,
   "metadata": {},
   "outputs": [],
   "source": []
  }
 ],
 "metadata": {
  "kernelspec": {
   "display_name": "Python 3",
   "language": "python",
   "name": "python3"
  },
  "language_info": {
   "codemirror_mode": {
    "name": "ipython",
    "version": 3
   },
   "file_extension": ".py",
   "mimetype": "text/x-python",
   "name": "python",
   "nbconvert_exporter": "python",
   "pygments_lexer": "ipython3",
   "version": "3.7.1"
  }
 },
 "nbformat": 4,
 "nbformat_minor": 2
}
